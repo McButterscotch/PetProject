{
 "cells": [
  {
   "cell_type": "code",
   "execution_count": null,
   "id": "3ecbf3bc",
   "metadata": {},
   "outputs": [],
   "source": [
    "import scripts.analysis as p\n",
    "import numpy as np\n",
    "\n",
    "import os\n",
    "from pathlib import Path\n",
    "\n",
    "import uproot\n",
    "\n",
    "import matplotlib.pyplot as plt\n",
    "%matplotlib inline\n",
    "\n",
    "cwd = os.getcwd()\n",
    "folder = Path(os.path.join(cwd, './data/output'))"
   ]
  },
  {
   "cell_type": "code",
   "execution_count": null,
   "id": "10234c27",
   "metadata": {},
   "outputs": [],
   "source": [
    "# print information about the simulation by reading the stat.txt file\n",
    "stat_AB = os.path.join(folder, 'stats_mod18_srcAB_g1.txt')\n",
    "fs_AB = open(stat_AB, 'r').read()\n",
    "\n",
    "stat_A = os.path.join(folder, 'stats_mod18_srcA_g1.txt')\n",
    "fs_A = open(stat_A, 'r').read()\n",
    "\n",
    "stat_B = os.path.join(folder, 'stats_mod18_srcB_g1.txt')\n",
    "fs_B = open(stat_B, 'r').read()"
   ]
  },
  {
   "cell_type": "code",
   "execution_count": null,
   "id": "842b3fd8",
   "metadata": {},
   "outputs": [],
   "source": [
    "# opening the files\n",
    "file_AB = os.path.join(folder, \"output_mod18_srcAB_g1.root\")\n",
    "f_AB = uproot.open(file_AB)\n",
    "\n",
    "file_A = os.path.join(folder, \"output_mod18_srcA_g1.root\")\n",
    "f_A = uproot.open(file_A)\n",
    "\n",
    "file_B = os.path.join(folder, \"output_mod18_srcB_g1.root\")\n",
    "f_B = uproot.open(file_B)"
   ]
  },
  {
   "cell_type": "code",
   "execution_count": null,
   "id": "c51f6726",
   "metadata": {},
   "outputs": [],
   "source": [
    "singles3_AB = f_AB['Singles3']\n",
    "singles3_A = f_A['Singles3']\n",
    "singles3_B = f_B['Singles3']\n",
    "\n",
    "fig, ax = plt.subplots(1, 3, figsize=(20, 5))\n",
    "\n",
    "# hits\n",
    "energy_AB = singles3_AB.arrays()['TotalEnergyDeposit']/0.001\n",
    "a = ax[0]\n",
    "n, bins, patches = a.hist(energy_AB, 200, facecolor='green', alpha=0.75)\n",
    "a.set_title('Edep (blurring) Two Na22 sources')\n",
    "a.set_xlabel('Energy (keV)')\n",
    "\n",
    "# singles\n",
    "energy_A = singles3_A.arrays()['TotalEnergyDeposit']/0.001\n",
    "a = ax[1]\n",
    "n, bins, patches = a.hist(energy_A, 200, facecolor='green', alpha=0.75)\n",
    "a.set_title('Edep (blurring) Na22 10 kBq')\n",
    "a.set_xlabel('Energy (keV)')\n",
    "\n",
    "\n",
    "# singles after E blurring\n",
    "energy_B = singles3_B.arrays()['TotalEnergyDeposit']/0.001\n",
    "a = ax[2]\n",
    "n, bins, patches = a.hist(energy_B, 200, facecolor='green', alpha=0.75)\n",
    "a.set_title('Edep (blurring) Na22 5 kBq')\n",
    "a.set_xlabel('Energy (keV)')"
   ]
  },
  {
   "cell_type": "code",
   "execution_count": null,
   "id": "d2737a1a",
   "metadata": {},
   "outputs": [],
   "source": [
    "singles1_AB = f_AB['Singles1']\n",
    "singles1_A = f_A['Singles1']\n",
    "singles1_B = f_B['Singles1']\n",
    "\n",
    "fig, ax = plt.subplots(1, 3, figsize=(20, 5))\n",
    "\n",
    "# singles\n",
    "times_AB = singles1_AB.arrays()['LocalTime']/1e9\n",
    "a = ax[0]\n",
    "n, bins, patches = a.hist(times_AB, 200, facecolor='green', alpha=0.75)\n",
    "a.set_title('Local time Two Na22 sources')\n",
    "a.set_xlabel('Time in sec')\n",
    "a.set_xlim(0, 5e-9)\n",
    "a.set_ylim(0, 220)\n",
    "\n",
    "\n",
    "times_A = singles1_A.arrays()['LocalTime']/1e9\n",
    "a = ax[1]\n",
    "n, bins, patches = a.hist(times_A, 200, facecolor='green', alpha=0.75)\n",
    "a.set_title('Local time Na22 10 kBq')\n",
    "a.set_xlabel('Time in sec')\n",
    "a.set_xlim(0, 5e-9)\n",
    "a.set_ylim(0, 220)\n",
    "\n",
    "\n",
    "times_B = singles1_B.arrays()['LocalTime']/1e9\n",
    "a = ax[2]\n",
    "n, bins, patches = a.hist(times_B, 200, facecolor='green', alpha=0.75)\n",
    "a.set_title('Local time Na22 5 kBq')\n",
    "a.set_xlabel('Time in sec')\n",
    "a.set_xlim(0, 5e-9)\n",
    "a.set_ylim(0, 220)"
   ]
  }
 ],
 "metadata": {
  "kernelspec": {
   "display_name": "venv",
   "language": "python",
   "name": "python3"
  },
  "language_info": {
   "codemirror_mode": {
    "name": "ipython",
    "version": 3
   },
   "file_extension": ".py",
   "mimetype": "text/x-python",
   "name": "python",
   "nbconvert_exporter": "python",
   "pygments_lexer": "ipython3",
   "version": "3.11.10"
  }
 },
 "nbformat": 4,
 "nbformat_minor": 5
}

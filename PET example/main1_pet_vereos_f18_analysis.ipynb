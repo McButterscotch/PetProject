{
 "cells": [
  {
   "cell_type": "markdown",
   "metadata": {
    "cell_id": "00000-907e5ad8-c523-4780-842f-be1b1db8593a",
    "output_cleared": false
   },
   "source": [
    "# PET simulation analysis\n",
    "\n",
    "Run the simulation with `main1_pet_vereos_f18.py`.\n",
    "The output will be the file `output/output.root`.\n",
    "\n",
    "Vocabulary:\n",
    "- events: (Geant4) primary particle tracked by the MC engine (source)\n",
    "- track: (Geant4) every tracked particle is a track (including primary and secondaries)\n",
    "- step: (Geant4) tracking is divided in step\n",
    "- hits: (Gate) individual interaction inside a detector (with energy deposition)\n",
    "- singles: combined hits in a given element (i.e. a single detector)\n",
    "\n",
    "The following is not yet available in this Gate version:\n",
    "- coincidences: time associated singles\n",
    "- trues: real, expected coincidences\n",
    "- randoms: accidental coincidence\n",
    "- scatters: coincidence events resulting from scattered photons inside the phantom\n",
    "- prompts: total number of detected coincidences (sum of Trues + Randoms + Scatters)\n",
    "- delays: estimated number of scattered coincidence"
   ]
  },
  {
   "cell_type": "code",
   "execution_count": null,
   "metadata": {
    "ExecuteTime": {
     "end_time": "2024-01-23T19:56:47.580512Z",
     "start_time": "2024-01-23T19:56:47.555764Z"
    },
    "cell_id": "00001-794edcf5-242a-4a8e-9f59-d73b9c63e6ca",
    "execution_millis": 1,
    "execution_start": 1605001897863,
    "output_cleared": false,
    "source_hash": "550a1e4d"
   },
   "outputs": [],
   "source": [
    "# some functions are defined in the file called pet_helpers.py\n",
    "# they will be available with p.function_name()\n",
    "# Example: \n",
    "import pet_helpers as p\n",
    "p.hello()"
   ]
  },
  {
   "cell_type": "code",
   "execution_count": null,
   "metadata": {},
   "outputs": [],
   "source": [
    "print(\"Hello from the PET course!\")\n",
    "import numpy as np\n",
    "import pet_helpers as p"
   ]
  },
  {
   "cell_type": "code",
   "execution_count": null,
   "metadata": {
    "ExecuteTime": {
     "end_time": "2024-01-23T19:56:47.960677Z",
     "start_time": "2024-01-23T19:56:47.955493Z"
    },
    "cell_id": "00002-80f6f5bb-8cb5-4a52-bc37-5da12884cae3",
    "execution_millis": 1,
    "execution_start": 1605001897864,
    "output_cleared": false,
    "source_hash": "35dca335"
   },
   "outputs": [],
   "source": [
    "import os\n",
    "from pathlib import Path\n",
    "# The following command display the current working directory (where jupyter has been launched)\n",
    "# and select the output folder\n",
    "cwd = os.getcwd()\n",
    "folder = Path(os.path.join(cwd, './output'))\n",
    "if (not folder.is_dir()):\n",
    "    print(f'ERROR: {folder} is not a folder.')\n",
    "print(f'The Current Working Directory (CWD) is {cwd}')\n",
    "print(f'The output folder is {folder}')"
   ]
  },
  {
   "cell_type": "code",
   "execution_count": null,
   "metadata": {
    "ExecuteTime": {
     "end_time": "2024-01-23T19:56:48.678277Z",
     "start_time": "2024-01-23T19:56:48.672680Z"
    },
    "cell_id": "00003-9dea61cd-664d-4568-8e93-58fc8ca52b4e",
    "execution_millis": 41,
    "execution_start": 1605001897865,
    "output_cleared": false,
    "source_hash": "4baefa7b"
   },
   "outputs": [],
   "source": [
    "# print information about the simulation by reading the stat.txt file\n",
    "stat = os.path.join(folder, 'stats_vereos.txt')\n",
    "fs = open(stat, 'r').read()\n",
    "n_events = int(p.get_stat_value(fs, '# NumberOfEvents = '))\n",
    "t_start = int(p.get_stat_value(fs,  '# StartDate             = '))\n",
    "t_stop = int(p.get_stat_value(fs,   '# EndDate               = '))\n",
    "print(f'Number of simulated events (primaries): {n_events}')\n",
    "print(f'Simulation timing: {t_start} to {t_stop} seconds')"
   ]
  },
  {
   "cell_type": "markdown",
   "metadata": {
    "cell_id": "00005-586a7cd2-fe06-4581-988a-efc03fedb97e",
    "output_cleared": false
   },
   "source": [
    "The content of this root file is a set of data, organized in keys. For example, you can retrieve all the particles information of the 'Hits' or of the 'Singles'."
   ]
  },
  {
   "cell_type": "code",
   "execution_count": null,
   "metadata": {
    "ExecuteTime": {
     "end_time": "2024-01-23T19:56:50.017295Z",
     "start_time": "2024-01-23T19:56:50.012094Z"
    },
    "cell_id": "00006-45ae0a3b-10e0-41aa-834d-111c0b67119d",
    "execution_millis": 55,
    "execution_start": 1605001897907,
    "output_cleared": false,
    "source_hash": "286ae4c6"
   },
   "outputs": [],
   "source": [
    "# opening the files\n",
    "import uproot\n",
    "filename = os.path.join(folder, \"output_vereos.root\")\n",
    "f = uproot.open(filename)\n",
    "\n",
    "# print the list of trees\n",
    "for t in f:\n",
    "    print(f'Tree {t}')\n",
    "\n",
    "# get the first tree and print the branches\n",
    "hits = f['Hits']\n",
    "print()\n",
    "print(f'Number of hits : {hits.num_entries}')\n",
    "for b in hits:\n",
    "    print(f'Branch {b.name}')"
   ]
  },
  {
   "cell_type": "code",
   "execution_count": null,
   "metadata": {
    "ExecuteTime": {
     "end_time": "2024-01-23T19:56:51.371342Z",
     "start_time": "2024-01-23T19:56:51.366815Z"
    },
    "collapsed": false
   },
   "outputs": [],
   "source": [
    "# helper function to plot X,Y position plot\n",
    "def plot_position(a, values, title, point_size=1):\n",
    "    position_x = p.tget(values, 'PostPosition_X')\n",
    "    position_y = p.tget(values, 'PostPosition_Y')\n",
    "    a.scatter(position_x, position_y, s=point_size)\n",
    "    a.set_aspect(\"equal\", adjustable=\"box\")\n",
    "    a.set_xlabel(\"mm\")\n",
    "    a.set_ylabel(\"mm\")\n",
    "    a.set_title(f\"Transaxial detection position ({title}) \")"
   ]
  },
  {
   "cell_type": "code",
   "execution_count": null,
   "metadata": {
    "ExecuteTime": {
     "end_time": "2024-01-23T19:56:55.737744Z",
     "start_time": "2024-01-23T19:56:55.195593Z"
    },
    "collapsed": false
   },
   "outputs": [],
   "source": [
    "import matplotlib.pyplot as plt\n",
    "%matplotlib inline\n",
    "fig, ax = plt.subplots(1, 2, figsize=(18, 10))\n",
    "\n",
    "# plot the trans-axial position\n",
    "plot_position(ax[0], hits, 'Hits')\n",
    "\n",
    "# idem for the singles\n",
    "singles1 =  f['Singles1']\n",
    "plot_position(ax[1], singles1, 'Singles1')"
   ]
  },
  {
   "cell_type": "code",
   "execution_count": null,
   "metadata": {
    "ExecuteTime": {
     "end_time": "2024-01-23T19:56:56.570050Z",
     "start_time": "2024-01-23T19:56:56.455595Z"
    },
    "collapsed": false
   },
   "outputs": [],
   "source": [
    "# \"zoom\" on a given crystal\n",
    "fig, ax = plt.subplots(1, 1, figsize=(10, 10))\n",
    "\n",
    "# plot the trans-axial position\n",
    "plot_position(ax, hits, 'Hits', 6)\n",
    "ax.set_xlim(-450, -300)\n",
    "ax.set_ylim(-10, 150)\n",
    "\n",
    "# idem for the singles\n",
    "singles1 =  f['Singles1']\n",
    "plot_position(ax, singles1, 'Singles1', 10)\n"
   ]
  },
  {
   "cell_type": "markdown",
   "metadata": {
    "cell_id": "00013-5f0b578c-ba43-4460-8543-3aa1f420c99e",
    "output_cleared": false
   },
   "source": [
    "# Plot the energy  of the hits and singles"
   ]
  },
  {
   "cell_type": "code",
   "execution_count": null,
   "metadata": {
    "ExecuteTime": {
     "end_time": "2024-01-23T19:56:58.531150Z",
     "start_time": "2024-01-23T19:56:58.103427Z"
    },
    "cell_id": "00014-11380b88-8612-40df-bf42-2ad92955746c",
    "execution_millis": 1517,
    "execution_start": 1605001899146,
    "output_cleared": false,
    "source_hash": "2862fa07"
   },
   "outputs": [],
   "source": [
    "fig, ax = plt.subplots(1, 3, figsize=(20, 5))\n",
    "\n",
    "# hits\n",
    "energy = hits.arrays()['TotalEnergyDeposit']/0.001\n",
    "a = ax[0]\n",
    "n, bins, patches = a.hist(energy, 200, facecolor='green', alpha=0.75)\n",
    "a.set_title('Edep (Hits)')\n",
    "a.set_xlabel('Energy in keV');\n",
    "\n",
    "# singles\n",
    "energy = singles1.arrays()['TotalEnergyDeposit']/0.001\n",
    "a = ax[1]\n",
    "n, bins, patches = a.hist(energy, 200, facecolor='green', alpha=0.75)\n",
    "a.set_title('Edep (Singles1)')\n",
    "a.set_xlabel('Energy in keV');\n",
    "\n",
    "\n",
    "# singles after E blurring \n",
    "singles3 =  f['Singles3']\n",
    "energy = singles3.arrays()['TotalEnergyDeposit']/0.001\n",
    "a = ax[2]\n",
    "n, bins, patches = a.hist(energy, 200, facecolor='green', alpha=0.75)\n",
    "a.set_title('Edep (Singles3 after E blurring)')\n",
    "a.set_xlabel('Energy in keV');\n",
    "\n"
   ]
  },
  {
   "cell_type": "code",
   "execution_count": null,
   "metadata": {
    "ExecuteTime": {
     "end_time": "2024-01-23T19:56:59.887098Z",
     "start_time": "2024-01-23T19:56:59.467398Z"
    },
    "cell_id": "00014-11380b88-8612-40df-bf42-2ad92955746c",
    "execution_millis": 1517,
    "execution_start": 1605001899146,
    "output_cleared": false,
    "source_hash": "2862fa07"
   },
   "outputs": [],
   "source": [
    "fig, ax = plt.subplots(1, 3, figsize=(20, 5))\n",
    "\n",
    "# singles\n",
    "times = singles1.arrays()['GlobalTime']/1e9\n",
    "a = ax[0]\n",
    "n, bins, patches = a.hist(times, 200, facecolor='green', alpha=0.75)\n",
    "a.set_title('Global time of Singles1')\n",
    "a.set_xlabel('Time in sec')\n",
    "\n",
    "# singles after E blurring \n",
    "singles4 =  f['Singles4']\n",
    "times = singles4.arrays()['GlobalTime']/1e9\n",
    "a = ax[1]\n",
    "n, bins, patches = a.hist(times, 200, facecolor='green', alpha=0.75)\n",
    "a.set_title('Global time of Singles4 after time blurring')\n",
    "a.set_xlabel('Time in ns')\n",
    "\n",
    "# singles\n",
    "times = singles1.arrays()['LocalTime']\n",
    "a = ax[2]\n",
    "n, bins, patches = a.hist(times, 200, facecolor='green', alpha=0.75)\n",
    "a.set_title('Local time of Singles1')\n",
    "a.set_xlabel('Time in ns')\n",
    "\n",
    "\n"
   ]
  },
  {
   "cell_type": "code",
   "execution_count": null,
   "metadata": {},
   "outputs": [],
   "source": []
  }
 ],
 "metadata": {
  "deepnote_execution_queue": [],
  "deepnote_notebook_id": "a3da348a-5965-4f9e-981e-e4b139eb47c3",
  "kernelspec": {
   "display_name": "venv",
   "language": "python",
   "name": "python3"
  },
  "language_info": {
   "codemirror_mode": {
    "name": "ipython",
    "version": 3
   },
   "file_extension": ".py",
   "mimetype": "text/x-python",
   "name": "python",
   "nbconvert_exporter": "python",
   "pygments_lexer": "ipython3",
   "version": "3.11.10"
  }
 },
 "nbformat": 4,
 "nbformat_minor": 4
}

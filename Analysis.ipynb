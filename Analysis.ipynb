{
 "cells": [
  {
   "cell_type": "code",
   "execution_count": null,
   "id": "f68864f0",
   "metadata": {},
   "outputs": [],
   "source": [
    "import uproot\n",
    "\n",
    "f = uproot.open(\"output/output_vereos.root\")\n",
    "\n",
    "keys = f.keys()\n",
    "\n",
    "print(keys)\n",
    "\n"
   ]
  },
  {
   "cell_type": "code",
   "execution_count": null,
   "id": "0580effb",
   "metadata": {},
   "outputs": [],
   "source": [
    "print(f[\"Hits;1\"].keys())\n",
    "\n",
    "print(f[\"Hits;1\"][\"PostPosition_X\"].array())\n",
    "print(len(f[\"Hits;1\"][\"PostPosition_X\"].array()))\n",
    "print(f[\"Hits;1\"][\"PostPosition_Y\"].array())\n",
    "print(f[\"Hits;1\"][\"PostPosition_Z\"].array())\n",
    "print(f[\"Hits;1\"][\"TotalEnergyDeposit\"].array())"
   ]
  },
  {
   "cell_type": "code",
   "execution_count": null,
   "id": "57e5e38c",
   "metadata": {},
   "outputs": [],
   "source": [
    "print(f[\"Singles1;1\"].keys())\n",
    "print(f[\"Singles1;1\"][\"PostPosition_X\"].array())\n",
    "print(f[\"Singles1;1\"][\"PostPosition_Y\"].array())\n",
    "print(f[\"Singles1;1\"][\"PostPosition_Z\"].array())\n",
    "print(f[\"Singles1;1\"][\"TotalEnergyDeposit\"].array())"
   ]
  }
 ],
 "metadata": {
  "kernelspec": {
   "display_name": "venv",
   "language": "python",
   "name": "python3"
  },
  "language_info": {
   "codemirror_mode": {
    "name": "ipython",
    "version": 3
   },
   "file_extension": ".py",
   "mimetype": "text/x-python",
   "name": "python",
   "nbconvert_exporter": "python",
   "pygments_lexer": "ipython3",
   "version": "3.11.10"
  }
 },
 "nbformat": 4,
 "nbformat_minor": 5
}
